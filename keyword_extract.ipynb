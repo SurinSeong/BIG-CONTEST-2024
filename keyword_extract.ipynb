{
 "cells": [
  {
   "cell_type": "code",
   "execution_count": 2,
   "metadata": {},
   "outputs": [],
   "source": [
    "# 구글 제미나이 설치\n",
    "# %pip install google-generativeai"
   ]
  },
  {
   "cell_type": "code",
   "execution_count": 2,
   "metadata": {},
   "outputs": [],
   "source": [
    "import os\n",
    "import google.generativeai as genai\n",
    "from dotenv import load_dotenv\n",
    "\n",
    "load_dotenv()\n",
    "\n",
    "# gemini api key 사용\n",
    "genai.configure(api_key=os.environ['GEMINI_OPEN_API_KEY'])\n"
   ]
  },
  {
   "cell_type": "code",
   "execution_count": 7,
   "metadata": {},
   "outputs": [],
   "source": [
    "# 모델 생성하기\n",
    "generation_config = {\n",
    "    'temperature':1,\n",
    "    'top_p':0.95,\n",
    "    'top_k':64,\n",
    "    'max_output_tokens':8192,\n",
    "    'response_mime_type':'text/plain',\n",
    "}\n",
    "\n",
    "model = genai.GenerativeModel(\n",
    "    model_name='gemini-1.5-flash',\n",
    "    generation_config=generation_config,\n",
    ")"
   ]
  },
  {
   "cell_type": "code",
   "execution_count": 8,
   "metadata": {},
   "outputs": [
    {
     "name": "stdout",
     "output_type": "stream",
     "text": [
      "## 키워드 추출\n",
      "\n",
      "* **제주시 노형동**: 지역 정보\n",
      "* **단품요리 전문점**: 업종\n",
      "* **이용 건수 상위 10%**: 인기 기준\n",
      "* **현지인 이용 비중 가장 높은**: 고객층 기준 \n",
      "\n"
     ]
    }
   ],
   "source": [
    "# gemini 사용해보기\n",
    "chat_session = model.start_chat(\n",
    "    # 미리 히스토리 설정해서 채팅흔적 남기기\n",
    "    history=[\n",
    "        {\n",
    "            'role':'user',\n",
    "            'parts':[\n",
    "                '다음 문장의 키워드를 추출해주세요.',\n",
    "                '\"제주시 한림읍에 있는 카페 중 30대 이용 비중이 가장 높은 곳은?\"\\n',\n",
    "            ],\n",
    "        },\n",
    "        {\n",
    "            'role':'model',\n",
    "            'parts':[\n",
    "                '## 키워드 추출\\n\\n- **제주시 한림읍** : 지역정보\\n- **카페** : 업종\\n- **30대** : 고객 연령대\\n- **이용 비중** : 분석기준 (매출, 인기)'\n",
    "            ],\n",
    "        },\n",
    "    ]\n",
    ")\n",
    "\n",
    "response = chat_session.send_message('제주시 노형동에 있는 단품요리 전문점 중 이용건수가 상위 10%에 속하고 현지인 이용 비중이 가장 높은 곳은?')\n",
    "print(response.text)"
   ]
  },
  {
   "cell_type": "code",
   "execution_count": 10,
   "metadata": {},
   "outputs": [
    {
     "name": "stdout",
     "output_type": "stream",
     "text": [
      "\n",
      "{\n",
      "  \"주소\": \"애월읍\",\n",
      "  \"업종\": \"맥주/요리주점\",\n",
      "  \"18-22시_이용건수비중\": \"하위 3개\",\n",
      "  \"현지인_이용건수비중\": \"상위 3개\",\n",
      "  \"이용금액구간\": \"상위 10% 이하\"\n",
      "}\n",
      "\n"
     ]
    }
   ],
   "source": [
    "# LLM을 이용한 키워드 추출 함수\n",
    "def extract_keywords_from_text(query):\n",
    "    # Gemini LLM 프롬프트 생성\n",
    "    prompt_template = f'''\n",
    "    문장에서 중요한 정보를 JSON 형식으로 추출해주세요. 키는 아래의 리스트 중 문맥상 가장 적합한 항목을 사용해주세요.\n",
    "    \n",
    "    keys = [\n",
    "        '가맹점명', '개설일자', '업종', '주소', '이용건수구간', '이용금액구간', '건당평균이용금액구간',\n",
    "        '월_이용건수비중', '화_이용건수비중', '수_이용건수비중', '목_이용건수비중', '금_이용건수비중', '토_이용건수비중',\n",
    "        '일_이용건수비중', '05-11시_이용건수비중', '12-13시_이용건수비중', '14-17시_이용건수비중',\n",
    "        '18-22시_이용건수비중', '23-04시_이용건수비중', '현지인_이용건수비중', '남성_이용건수비중',\n",
    "        '여성_이용건수비중', '10-20대_회원비중', '30대_회원비중', '40대_회원비중', '50대_회원비중',\n",
    "        '60대이상_회원비중'\n",
    "    ]\n",
    "    \n",
    "    <규칙>\n",
    "    1. \"비중\"으로 끝나는 항목의 값이 `높은` 것을 언급하면 상위 3개를 나타내는 \"상위 3개\" 형식으로, `낮은` 것을 언급하면 하위 3개를 나타내는 \"하위 3개\" 형식으로 표시해주세요.\n",
    "    2. \"구간\"으로 끝나는 항목 (예시: \"이용건수구간\", \"이용금액구간\", \"건당평균이용금액구간\")은 다음과 같은 값으로 변환해주세요:\n",
    "        - \"상위 10%\" : \"상위 10% 이하\",\n",
    "        - \"10-25%\" : \"10-25%\",\n",
    "        - \"25-50%\" : \"25-50%\",\n",
    "        - \"50-75%\" : \"50-75%\",\n",
    "        - \"75-90%\" : \"75-90%\",\n",
    "        - \"90% 미만\" : \"90% 초과\"\n",
    "    3. \"주소\"가 언급되면 key는 \"주소\", value는 해당 주소로 지정해주세요.\n",
    "    4. \"업종\"이 입력되면,\n",
    "        ['가정식', '커피', '분식', '단품요리 전문', '치킨', '중식', '맥주/요리주점', '양식', '베이커리',\n",
    "        '아이스크림/빙수', '일식', '샌드위치/토스트', '구내식당/푸드코트', '피자', '떡/한과', '민속주점',\n",
    "        '햄버거', '동남아/인도음식', '꼬치구이', '패밀리 레스토랑', '차', '도시락', '야식', '부페',\n",
    "        '도너츠', '스테이크', '기타세계요리', '기사식당', '주스', '포장마차']\n",
    "        위의 리스트의 요소 중 하나로 변환해주세요. 없다면 유사한 것으로 변환해주세요.\n",
    "        (예시: 업종이 \"단품요리 전문점\"으로 입력되면, \"단품요리 전문\"으로 변환해주세요.)\n",
    "        \n",
    "    <예시>\n",
    "    사용자 입력 : \"제주시 노형동에 있는 단품요리 전문점 중 이용건수가 상위 10%에 속하고 현지인 이용 비중이 가장 높은 곳은?\"\n",
    "    출력 :\n",
    "    {{\n",
    "        \"주소\":\"제주시 노형동\",\n",
    "        \"업종\":\"단품요리 전문\",\n",
    "        \"이용건수구간\":\"상위 10% 이하\",\n",
    "        \"현지인_이용건수비중\":\"상위 3개\",\n",
    "    }}\n",
    "    \n",
    "    사용자 입력 : \"{query}\"\n",
    "    '''\n",
    "    \n",
    "    # 대화 세션 시작\n",
    "    chat_session = model.start_chat(\n",
    "        history=[\n",
    "            {\n",
    "                'role':'user',\n",
    "                'parts':[prompt_template],\n",
    "            }\n",
    "        ]\n",
    "    )\n",
    "    \n",
    "    # LLM에 프롬프트 전달 및 키워드 추출\n",
    "    response = chat_session.send_message(query)\n",
    "    \n",
    "    # 키워드를 쉼표로 구분한 결과를 리스트로 변환하기\n",
    "    keywords = response.text.strip().replace(\"```json\", \"\").replace(\"```\", \"\")\n",
    "    \n",
    "    return keywords\n",
    "\n",
    "# 테스트 쿼리\n",
    "query = \"애월읍에 있는 주점 중 20시 이용건수비중이 낮고, 현지인 비중이 높은, 이용금액구간이 상위 10% 정도인 곳은?\"\n",
    "\n",
    "# 키워드 추출\n",
    "keywords = extract_keywords_from_text(query)\n",
    "print(keywords)"
   ]
  },
  {
   "cell_type": "code",
   "execution_count": 11,
   "metadata": {},
   "outputs": [
    {
     "name": "stdout",
     "output_type": "stream",
     "text": [
      "\n",
      "{\n",
      "  \"주소\": \"제주시 노형동\",\n",
      "  \"업종\": \"단품요리 전문\",\n",
      "  \"이용건수구간\": \"상위 10% 이하\",\n",
      "  \"현지인_이용건수비중\": \"상위 3개\"\n",
      "}\n",
      "\n"
     ]
    },
    {
     "data": {
      "text/plain": [
       "{'주소': '제주시 노형동',\n",
       " '업종': '단품요리 전문',\n",
       " '이용건수구간': '상위 10% 이하',\n",
       " '현지인_이용건수비중': '상위 3개'}"
      ]
     },
     "execution_count": 11,
     "metadata": {},
     "output_type": "execute_result"
    }
   ],
   "source": [
    "import json\n",
    "\n",
    "# 연습\n",
    "query = '제주시 노형동에 있는 단품요리 전문점 중 이용건수가 상위 10%에 속하고 현지인 이용 비중이 가장 높은 곳은?'\n",
    "\n",
    "# 키워드 추출\n",
    "keywords = extract_keywords_from_text(query)\n",
    "print(keywords)\n",
    "\n",
    "try:\n",
    "    keywords_json = json.loads(keywords)\n",
    "    \n",
    "except json.JSONDecodeError as e:\n",
    "    print(f'JSON 변환 오류: {e}')\n",
    "    keywords_json = None\n",
    "    \n",
    "keywords_json"
   ]
  },
  {
   "cell_type": "code",
   "execution_count": null,
   "metadata": {},
   "outputs": [],
   "source": [
    "# 주소로 우선 필터링하기\n"
   ]
  }
 ],
 "metadata": {
  "kernelspec": {
   "display_name": "inflearn",
   "language": "python",
   "name": "python3"
  },
  "language_info": {
   "codemirror_mode": {
    "name": "ipython",
    "version": 3
   },
   "file_extension": ".py",
   "mimetype": "text/x-python",
   "name": "python",
   "nbconvert_exporter": "python",
   "pygments_lexer": "ipython3",
   "version": "3.11.9"
  }
 },
 "nbformat": 4,
 "nbformat_minor": 2
}
