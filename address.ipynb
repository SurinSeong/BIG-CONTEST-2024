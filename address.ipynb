{
 "cells": [
  {
   "cell_type": "markdown",
   "metadata": {},
   "source": [
    "## 주소 확인하기"
   ]
  },
  {
   "cell_type": "code",
   "execution_count": 28,
   "metadata": {},
   "outputs": [],
   "source": [
    "import pandas as pd\n",
    "\n",
    "# 문자열 길이 제한을 없앰\n",
    "pd.set_option('display.max_colwidth', None)"
   ]
  },
  {
   "cell_type": "code",
   "execution_count": 33,
   "metadata": {},
   "outputs": [
    {
     "name": "stdout",
     "output_type": "stream",
     "text": [
      "(1815, 6)\n"
     ]
    },
    {
     "data": {
      "text/html": [
       "<div>\n",
       "<style scoped>\n",
       "    .dataframe tbody tr th:only-of-type {\n",
       "        vertical-align: middle;\n",
       "    }\n",
       "\n",
       "    .dataframe tbody tr th {\n",
       "        vertical-align: top;\n",
       "    }\n",
       "\n",
       "    .dataframe thead th {\n",
       "        text-align: right;\n",
       "    }\n",
       "</style>\n",
       "<table border=\"1\" class=\"dataframe\">\n",
       "  <thead>\n",
       "    <tr style=\"text-align: right;\">\n",
       "      <th></th>\n",
       "      <th>기준년월</th>\n",
       "      <th>분류명</th>\n",
       "      <th>관광지명</th>\n",
       "      <th>관광지주소</th>\n",
       "      <th>형태소내용</th>\n",
       "      <th>평균평점</th>\n",
       "    </tr>\n",
       "  </thead>\n",
       "  <tbody>\n",
       "    <tr>\n",
       "      <th>0</th>\n",
       "      <td>202301</td>\n",
       "      <td>공연전시</td>\n",
       "      <td>감귤박물관</td>\n",
       "      <td>제주 서귀포시 효돈순환로 441</td>\n",
       "      <td>['분위기', '가격', '족욕', '아이', '가성비', '휴관', '박물관', '리모델링', '카페', '표지판', '소개', '감귤', '제주', '산책로', '공사', '바다', '커피', '다양', '음료', '체험', '경치', '한라봉', '스무디', '구경', '이름', '전망']</td>\n",
       "      <td>20.00</td>\n",
       "    </tr>\n",
       "    <tr>\n",
       "      <th>1</th>\n",
       "      <td>202301</td>\n",
       "      <td>공연전시</td>\n",
       "      <td>건강과성박물관</td>\n",
       "      <td>제주 서귀포시 안덕면 일주서로 1611</td>\n",
       "      <td>['시간', '관리', '공간', '여행', '인생', '예약', '성인', '물건', '추천', '건강', '업데이트', '규모', '사랑', '성교육', '퀄리티', '성박물관', '박물관', '입장', '컨텐츠', '작품', '가족', '사진', '생각', '남자', '제주', '기대', '얼굴', '흥미', '커플', '교육', '지식', '레벨', '유익', '모자', '내용', '철학', '방문지', '다양', '나라', '영어', '최신', '그림', '친구', '주인', '도움', '주차장', '실내', '경주', '구경', '자체', '설명', '시설', '동상', '볼거리', '친절', '여자', '관람']</td>\n",
       "      <td>5.08</td>\n",
       "    </tr>\n",
       "  </tbody>\n",
       "</table>\n",
       "</div>"
      ],
      "text/plain": [
       "     기준년월   분류명     관광지명                  관광지주소  \\\n",
       "0  202301  공연전시    감귤박물관      제주 서귀포시 효돈순환로 441   \n",
       "1  202301  공연전시  건강과성박물관  제주 서귀포시 안덕면 일주서로 1611   \n",
       "\n",
       "                                                                                                                                                                                                                                                                                                                                                               형태소내용  \\\n",
       "0                                                                                                                                                                                              ['분위기', '가격', '족욕', '아이', '가성비', '휴관', '박물관', '리모델링', '카페', '표지판', '소개', '감귤', '제주', '산책로', '공사', '바다', '커피', '다양', '음료', '체험', '경치', '한라봉', '스무디', '구경', '이름', '전망']   \n",
       "1  ['시간', '관리', '공간', '여행', '인생', '예약', '성인', '물건', '추천', '건강', '업데이트', '규모', '사랑', '성교육', '퀄리티', '성박물관', '박물관', '입장', '컨텐츠', '작품', '가족', '사진', '생각', '남자', '제주', '기대', '얼굴', '흥미', '커플', '교육', '지식', '레벨', '유익', '모자', '내용', '철학', '방문지', '다양', '나라', '영어', '최신', '그림', '친구', '주인', '도움', '주차장', '실내', '경주', '구경', '자체', '설명', '시설', '동상', '볼거리', '친절', '여자', '관람']   \n",
       "\n",
       "    평균평점  \n",
       "0  20.00  \n",
       "1   5.08  "
      ]
     },
     "execution_count": 33,
     "metadata": {},
     "output_type": "execute_result"
    }
   ],
   "source": [
    "folder_path = 'C:/Users/tjdtn/inflearn-llm-application/big-contest/data/'\n",
    "\n",
    "raw = pd.read_csv(folder_path+'제주_관광지_평점리뷰_형태소_데이터.csv')\n",
    "tour_address = raw.copy()\n",
    "print(tour_address.shape)\n",
    "tour_address.head(2)"
   ]
  },
  {
   "cell_type": "code",
   "execution_count": 34,
   "metadata": {},
   "outputs": [
    {
     "data": {
      "text/html": [
       "<div>\n",
       "<style scoped>\n",
       "    .dataframe tbody tr th:only-of-type {\n",
       "        vertical-align: middle;\n",
       "    }\n",
       "\n",
       "    .dataframe tbody tr th {\n",
       "        vertical-align: top;\n",
       "    }\n",
       "\n",
       "    .dataframe thead th {\n",
       "        text-align: right;\n",
       "    }\n",
       "</style>\n",
       "<table border=\"1\" class=\"dataframe\">\n",
       "  <thead>\n",
       "    <tr style=\"text-align: right;\">\n",
       "      <th></th>\n",
       "      <th>관광지주소</th>\n",
       "      <th>관광지명</th>\n",
       "    </tr>\n",
       "  </thead>\n",
       "  <tbody>\n",
       "    <tr>\n",
       "      <th>0</th>\n",
       "      <td>제주 서귀포시 효돈순환로 441</td>\n",
       "      <td>감귤박물관</td>\n",
       "    </tr>\n",
       "    <tr>\n",
       "      <th>1</th>\n",
       "      <td>제주 서귀포시 안덕면 일주서로 1611</td>\n",
       "      <td>건강과성박물관</td>\n",
       "    </tr>\n",
       "  </tbody>\n",
       "</table>\n",
       "</div>"
      ],
      "text/plain": [
       "                   관광지주소     관광지명\n",
       "0      제주 서귀포시 효돈순환로 441    감귤박물관\n",
       "1  제주 서귀포시 안덕면 일주서로 1611  건강과성박물관"
      ]
     },
     "execution_count": 34,
     "metadata": {},
     "output_type": "execute_result"
    }
   ],
   "source": [
    "# 필요없는 컬럼 삭제하기\n",
    "tour_address = tour_address[['관광지주소', '관광지명']]\n",
    "tour_address.head(2)"
   ]
  },
  {
   "cell_type": "code",
   "execution_count": 35,
   "metadata": {},
   "outputs": [
    {
     "name": "stdout",
     "output_type": "stream",
     "text": [
      "(192, 2)\n"
     ]
    },
    {
     "data": {
      "text/html": [
       "<div>\n",
       "<style scoped>\n",
       "    .dataframe tbody tr th:only-of-type {\n",
       "        vertical-align: middle;\n",
       "    }\n",
       "\n",
       "    .dataframe tbody tr th {\n",
       "        vertical-align: top;\n",
       "    }\n",
       "\n",
       "    .dataframe thead th {\n",
       "        text-align: right;\n",
       "    }\n",
       "</style>\n",
       "<table border=\"1\" class=\"dataframe\">\n",
       "  <thead>\n",
       "    <tr style=\"text-align: right;\">\n",
       "      <th></th>\n",
       "      <th>관광지주소</th>\n",
       "      <th>관광지명</th>\n",
       "    </tr>\n",
       "  </thead>\n",
       "  <tbody>\n",
       "    <tr>\n",
       "      <th>1038</th>\n",
       "      <td>제주특별자치도 서귀포시 표선면 일주동로6285번길 13-12</td>\n",
       "      <td>제주 해바라기 펜션</td>\n",
       "    </tr>\n",
       "    <tr>\n",
       "      <th>1043</th>\n",
       "      <td>제주특별자치도 서귀포시 표선면 민속해안로 347</td>\n",
       "      <td>해비치 하우스 펜션</td>\n",
       "    </tr>\n",
       "  </tbody>\n",
       "</table>\n",
       "</div>"
      ],
      "text/plain": [
       "                                  관광지주소         관광지명\n",
       "1038  제주특별자치도 서귀포시 표선면 일주동로6285번길 13-12  제주 해바라기 펜션 \n",
       "1043         제주특별자치도 서귀포시 표선면 민속해안로 347   해비치 하우스 펜션"
      ]
     },
     "execution_count": 35,
     "metadata": {},
     "output_type": "execute_result"
    }
   ],
   "source": [
    "# 중복 주소 제거\n",
    "tour_address.drop_duplicates(subset=['관광지주소', '관광지명'], keep='last', inplace=True)\n",
    "print(tour_address.shape)\n",
    "tour_address.head(2)"
   ]
  },
  {
   "cell_type": "code",
   "execution_count": 36,
   "metadata": {},
   "outputs": [],
   "source": [
    "# 관광지 주소 리스트로 변환하기\n",
    "tour_address['관광지주소'] = tour_address['관광지주소'].str.split(' ')\n",
    "# 주소 확인용 개수 컬럼 넣기 (나중에 삭제할 예정)\n",
    "tour_address['관광지주소개수'] = tour_address['관광지주소'].apply(len)"
   ]
  },
  {
   "cell_type": "code",
   "execution_count": 37,
   "metadata": {},
   "outputs": [
    {
     "data": {
      "text/plain": [
       "array([5, 4, 6, 9], dtype=int64)"
      ]
     },
     "execution_count": 37,
     "metadata": {},
     "output_type": "execute_result"
    }
   ],
   "source": [
    "tour_address['관광지주소개수'].unique()"
   ]
  },
  {
   "cell_type": "code",
   "execution_count": 40,
   "metadata": {},
   "outputs": [
    {
     "data": {
      "text/html": [
       "<div>\n",
       "<style scoped>\n",
       "    .dataframe tbody tr th:only-of-type {\n",
       "        vertical-align: middle;\n",
       "    }\n",
       "\n",
       "    .dataframe tbody tr th {\n",
       "        vertical-align: top;\n",
       "    }\n",
       "\n",
       "    .dataframe thead th {\n",
       "        text-align: right;\n",
       "    }\n",
       "</style>\n",
       "<table border=\"1\" class=\"dataframe\">\n",
       "  <thead>\n",
       "    <tr style=\"text-align: right;\">\n",
       "      <th></th>\n",
       "      <th>관광지주소</th>\n",
       "      <th>관광지명</th>\n",
       "      <th>관광지주소개수</th>\n",
       "    </tr>\n",
       "  </thead>\n",
       "  <tbody>\n",
       "    <tr>\n",
       "      <th>1038</th>\n",
       "      <td>[제주특별자치도, 서귀포시, 표선면, 일주동로6285번길, 13-12]</td>\n",
       "      <td>제주 해바라기 펜션</td>\n",
       "      <td>5</td>\n",
       "    </tr>\n",
       "    <tr>\n",
       "      <th>1043</th>\n",
       "      <td>[제주특별자치도, 서귀포시, 표선면, 민속해안로, 347]</td>\n",
       "      <td>해비치 하우스 펜션</td>\n",
       "      <td>5</td>\n",
       "    </tr>\n",
       "    <tr>\n",
       "      <th>1125</th>\n",
       "      <td>[제주, 서귀포시, 안덕면, 일주서로, 1611]</td>\n",
       "      <td>건강과성박물관</td>\n",
       "      <td>5</td>\n",
       "    </tr>\n",
       "    <tr>\n",
       "      <th>1527</th>\n",
       "      <td>[제주, 서귀포시, 성산읍, 삼달신풍로, 126-5]</td>\n",
       "      <td>고흐의 정원</td>\n",
       "      <td>5</td>\n",
       "    </tr>\n",
       "    <tr>\n",
       "      <th>1545</th>\n",
       "      <td>[제주, 서귀포시, 안덕면, 한창로, 243]</td>\n",
       "      <td>피규어뮤지엄제주</td>\n",
       "      <td>5</td>\n",
       "    </tr>\n",
       "    <tr>\n",
       "      <th>...</th>\n",
       "      <td>...</td>\n",
       "      <td>...</td>\n",
       "      <td>...</td>\n",
       "    </tr>\n",
       "    <tr>\n",
       "      <th>1809</th>\n",
       "      <td>[제주, 제주시, 한림읍, 한림로, 300]</td>\n",
       "      <td>한림공원</td>\n",
       "      <td>5</td>\n",
       "    </tr>\n",
       "    <tr>\n",
       "      <th>1810</th>\n",
       "      <td>[제주, 제주시, 애월읍, 애원로, 804]</td>\n",
       "      <td>화조원</td>\n",
       "      <td>5</td>\n",
       "    </tr>\n",
       "    <tr>\n",
       "      <th>1812</th>\n",
       "      <td>[제주특별자치도, 제주시, 한림읍, 귀덕리, 3861]</td>\n",
       "      <td>켄싱턴리조트 제주한림</td>\n",
       "      <td>5</td>\n",
       "    </tr>\n",
       "    <tr>\n",
       "      <th>1813</th>\n",
       "      <td>[제주특별자치도, 제주시, 한림읍, 일주서로, 5083-5]</td>\n",
       "      <td>한림 리조트</td>\n",
       "      <td>5</td>\n",
       "    </tr>\n",
       "    <tr>\n",
       "      <th>1814</th>\n",
       "      <td>[제주, 서귀포시, 표선면, 민속해안로, 537]</td>\n",
       "      <td>해비치 호텔 &amp; 리조트</td>\n",
       "      <td>5</td>\n",
       "    </tr>\n",
       "  </tbody>\n",
       "</table>\n",
       "<p>86 rows × 3 columns</p>\n",
       "</div>"
      ],
      "text/plain": [
       "                                        관광지주소          관광지명  관광지주소개수\n",
       "1038  [제주특별자치도, 서귀포시, 표선면, 일주동로6285번길, 13-12]   제주 해바라기 펜션         5\n",
       "1043         [제주특별자치도, 서귀포시, 표선면, 민속해안로, 347]    해비치 하우스 펜션        5\n",
       "1125              [제주, 서귀포시, 안덕면, 일주서로, 1611]       건강과성박물관        5\n",
       "1527            [제주, 서귀포시, 성산읍, 삼달신풍로, 126-5]        고흐의 정원        5\n",
       "1545                [제주, 서귀포시, 안덕면, 한창로, 243]      피규어뮤지엄제주        5\n",
       "...                                       ...           ...      ...\n",
       "1809                 [제주, 제주시, 한림읍, 한림로, 300]          한림공원        5\n",
       "1810                 [제주, 제주시, 애월읍, 애원로, 804]           화조원        5\n",
       "1812           [제주특별자치도, 제주시, 한림읍, 귀덕리, 3861]   켄싱턴리조트 제주한림        5\n",
       "1813        [제주특별자치도, 제주시, 한림읍, 일주서로, 5083-5]        한림 리조트        5\n",
       "1814              [제주, 서귀포시, 표선면, 민속해안로, 537]  해비치 호텔 & 리조트        5\n",
       "\n",
       "[86 rows x 3 columns]"
      ]
     },
     "execution_count": 40,
     "metadata": {},
     "output_type": "execute_result"
    }
   ],
   "source": [
    "tour_address[tour_address['관광지주소개수'] == 5]"
   ]
  },
  {
   "cell_type": "code",
   "execution_count": 41,
   "metadata": {},
   "outputs": [],
   "source": [
    "# 여러 특정 요소를 제거하는 함수 정의\n",
    "def remove_elements(lst, elements_to_remove):\n",
    "    return [x for x in lst if x not in elements_to_remove]\n",
    "\n",
    "remove_list = ['제주', '제주특별자치도', '랜딩관', '제주신화월드', '메리어트관', '제주코코몽에코파크', '호텔앤리조트', 'G층', '5층']\n",
    "\n",
    "# '관광지주소'에서 특정 요소 제거\n",
    "tour_address['관광지주소'] = tour_address['관광지주소'].apply(lambda x: remove_elements(x, remove_list))\n",
    "# 다시 길이 구하기\n",
    "tour_address['관광지주소개수'] = tour_address['관광지주소'].apply(len)"
   ]
  },
  {
   "cell_type": "code",
   "execution_count": 42,
   "metadata": {},
   "outputs": [
    {
     "data": {
      "text/plain": [
       "array([4, 3, 5], dtype=int64)"
      ]
     },
     "execution_count": 42,
     "metadata": {},
     "output_type": "execute_result"
    }
   ],
   "source": [
    "tour_address['관광지주소개수'].unique()"
   ]
  },
  {
   "cell_type": "code",
   "execution_count": 48,
   "metadata": {},
   "outputs": [
    {
     "name": "stdout",
     "output_type": "stream",
     "text": [
      "(192, 3)\n"
     ]
    },
    {
     "data": {
      "text/html": [
       "<div>\n",
       "<style scoped>\n",
       "    .dataframe tbody tr th:only-of-type {\n",
       "        vertical-align: middle;\n",
       "    }\n",
       "\n",
       "    .dataframe tbody tr th {\n",
       "        vertical-align: top;\n",
       "    }\n",
       "\n",
       "    .dataframe thead th {\n",
       "        text-align: right;\n",
       "    }\n",
       "</style>\n",
       "<table border=\"1\" class=\"dataframe\">\n",
       "  <thead>\n",
       "    <tr style=\"text-align: right;\">\n",
       "      <th></th>\n",
       "      <th>관광지주소</th>\n",
       "      <th>관광지명</th>\n",
       "      <th>관광지주소개수</th>\n",
       "    </tr>\n",
       "  </thead>\n",
       "  <tbody>\n",
       "    <tr>\n",
       "      <th>0</th>\n",
       "      <td>서귀포시 표선면 일주동로6285번길 13-12</td>\n",
       "      <td>제주 해바라기 펜션</td>\n",
       "      <td>4</td>\n",
       "    </tr>\n",
       "    <tr>\n",
       "      <th>1</th>\n",
       "      <td>서귀포시 표선면 민속해안로 347</td>\n",
       "      <td>해비치 하우스 펜션</td>\n",
       "      <td>4</td>\n",
       "    </tr>\n",
       "  </tbody>\n",
       "</table>\n",
       "</div>"
      ],
      "text/plain": [
       "                       관광지주소         관광지명  관광지주소개수\n",
       "0  서귀포시 표선면 일주동로6285번길 13-12  제주 해바라기 펜션         4\n",
       "1         서귀포시 표선면 민속해안로 347   해비치 하우스 펜션        4"
      ]
     },
     "execution_count": 48,
     "metadata": {},
     "output_type": "execute_result"
    }
   ],
   "source": [
    "def join_address(address):\n",
    "    new_address = ' '.join(address)\n",
    "    return new_address\n",
    "\n",
    "tour_address['관광지주소'] = tour_address['관광지주소'].apply(join_address)\n",
    "tour_address = tour_address.reset_index(drop=True)\n",
    "print(tour_address.shape)\n",
    "tour_address.head(2)"
   ]
  },
  {
   "cell_type": "code",
   "execution_count": 49,
   "metadata": {},
   "outputs": [],
   "source": [
    "tour_address = tour_address[['관광지주소', '관광지명']]"
   ]
  },
  {
   "cell_type": "code",
   "execution_count": 53,
   "metadata": {},
   "outputs": [],
   "source": [
    "tour_address['contains_제주시'] = tour_address['관광지주소'].str.contains('제주시')"
   ]
  },
  {
   "cell_type": "code",
   "execution_count": 56,
   "metadata": {},
   "outputs": [],
   "source": [
    "서귀포시 = tour_address[tour_address['contains_제주시'] == False][['관광지주소', '관광지명']].reset_index(drop=True)\n",
    "서귀포시.to_csv(folder_path+'서귀포시_관광지주소.csv', index=False)"
   ]
  },
  {
   "cell_type": "code",
   "execution_count": 57,
   "metadata": {},
   "outputs": [],
   "source": [
    "제주시 = tour_address[tour_address['contains_제주시'] == True][['관광지주소', '관광지명']].reset_index(drop=True)\n",
    "제주시.to_csv(folder_path+'제주시_관광지주소.csv', index=False)"
   ]
  },
  {
   "cell_type": "markdown",
   "metadata": {},
   "source": [
    "# 새로 만든 주소 csv로 특정 주소 추출하기"
   ]
  },
  {
   "cell_type": "code",
   "execution_count": 59,
   "metadata": {},
   "outputs": [
    {
     "name": "stdout",
     "output_type": "stream",
     "text": [
      "(190, 2)\n"
     ]
    },
    {
     "data": {
      "text/html": [
       "<div>\n",
       "<style scoped>\n",
       "    .dataframe tbody tr th:only-of-type {\n",
       "        vertical-align: middle;\n",
       "    }\n",
       "\n",
       "    .dataframe tbody tr th {\n",
       "        vertical-align: top;\n",
       "    }\n",
       "\n",
       "    .dataframe thead th {\n",
       "        text-align: right;\n",
       "    }\n",
       "</style>\n",
       "<table border=\"1\" class=\"dataframe\">\n",
       "  <thead>\n",
       "    <tr style=\"text-align: right;\">\n",
       "      <th></th>\n",
       "      <th>관광지명</th>\n",
       "      <th>관광지주소</th>\n",
       "    </tr>\n",
       "  </thead>\n",
       "  <tbody>\n",
       "    <tr>\n",
       "      <th>0</th>\n",
       "      <td>제주 해바라기 펜션</td>\n",
       "      <td>서귀포시 표선면 세화리 1545</td>\n",
       "    </tr>\n",
       "    <tr>\n",
       "      <th>1</th>\n",
       "      <td>해비치 하우스 펜션</td>\n",
       "      <td>서귀포시 표선면 표선리 1282-5</td>\n",
       "    </tr>\n",
       "  </tbody>\n",
       "</table>\n",
       "</div>"
      ],
      "text/plain": [
       "          관광지명                관광지주소\n",
       "0  제주 해바라기 펜션     서귀포시 표선면 세화리 1545\n",
       "1   해비치 하우스 펜션  서귀포시 표선면 표선리 1282-5"
      ]
     },
     "execution_count": 59,
     "metadata": {},
     "output_type": "execute_result"
    }
   ],
   "source": [
    "raw2 = pd.read_csv(folder_path+'new_제주도관광지주소.csv')\n",
    "new_address = raw2.copy()\n",
    "print(new_address.shape)\n",
    "new_address.head(2)"
   ]
  },
  {
   "cell_type": "code",
   "execution_count": 63,
   "metadata": {},
   "outputs": [
    {
     "data": {
      "text/html": [
       "<div>\n",
       "<style scoped>\n",
       "    .dataframe tbody tr th:only-of-type {\n",
       "        vertical-align: middle;\n",
       "    }\n",
       "\n",
       "    .dataframe tbody tr th {\n",
       "        vertical-align: top;\n",
       "    }\n",
       "\n",
       "    .dataframe thead th {\n",
       "        text-align: right;\n",
       "    }\n",
       "</style>\n",
       "<table border=\"1\" class=\"dataframe\">\n",
       "  <thead>\n",
       "    <tr style=\"text-align: right;\">\n",
       "      <th></th>\n",
       "      <th>관광지명</th>\n",
       "      <th>관광지주소</th>\n",
       "      <th>관광지주소길이</th>\n",
       "    </tr>\n",
       "  </thead>\n",
       "  <tbody>\n",
       "    <tr>\n",
       "      <th>3</th>\n",
       "      <td>아루미호텔 중문점</td>\n",
       "      <td>서귀포시 색달동 2284-1</td>\n",
       "      <td>3</td>\n",
       "    </tr>\n",
       "    <tr>\n",
       "      <th>4</th>\n",
       "      <td>중문 리조트</td>\n",
       "      <td>서귀포시 색달동 1821-3</td>\n",
       "      <td>3</td>\n",
       "    </tr>\n",
       "    <tr>\n",
       "      <th>6</th>\n",
       "      <td>숨도</td>\n",
       "      <td>서귀포시 호근동 569-2</td>\n",
       "      <td>3</td>\n",
       "    </tr>\n",
       "    <tr>\n",
       "      <th>7</th>\n",
       "      <td>윈드1947카트 테마파크</td>\n",
       "      <td>서귀포시 토평동 1799</td>\n",
       "      <td>3</td>\n",
       "    </tr>\n",
       "    <tr>\n",
       "      <th>8</th>\n",
       "      <td>제주유리박물관</td>\n",
       "      <td>서귀포시 상예동 4303</td>\n",
       "      <td>3</td>\n",
       "    </tr>\n",
       "    <tr>\n",
       "      <th>...</th>\n",
       "      <td>...</td>\n",
       "      <td>...</td>\n",
       "      <td>...</td>\n",
       "    </tr>\n",
       "    <tr>\n",
       "      <th>171</th>\n",
       "      <td>호텔 컬리넌 제주</td>\n",
       "      <td>제주시 연동 284-8</td>\n",
       "      <td>3</td>\n",
       "    </tr>\n",
       "    <tr>\n",
       "      <th>172</th>\n",
       "      <td>호텔난타</td>\n",
       "      <td>제주시 오등동 10-1</td>\n",
       "      <td>3</td>\n",
       "    </tr>\n",
       "    <tr>\n",
       "      <th>173</th>\n",
       "      <td>호텔위드제주</td>\n",
       "      <td>제주시 노형동 930-5</td>\n",
       "      <td>3</td>\n",
       "    </tr>\n",
       "    <tr>\n",
       "      <th>174</th>\n",
       "      <td>휘슬락</td>\n",
       "      <td>제주시 건입동 1443-2</td>\n",
       "      <td>3</td>\n",
       "    </tr>\n",
       "    <tr>\n",
       "      <th>182</th>\n",
       "      <td>브릭캠퍼스</td>\n",
       "      <td>제주시 노형동 244-1</td>\n",
       "      <td>3</td>\n",
       "    </tr>\n",
       "  </tbody>\n",
       "</table>\n",
       "<p>104 rows × 3 columns</p>\n",
       "</div>"
      ],
      "text/plain": [
       "              관광지명            관광지주소  관광지주소길이\n",
       "3        아루미호텔 중문점  서귀포시 색달동 2284-1        3\n",
       "4           중문 리조트  서귀포시 색달동 1821-3        3\n",
       "6               숨도   서귀포시 호근동 569-2        3\n",
       "7    윈드1947카트 테마파크    서귀포시 토평동 1799        3\n",
       "8          제주유리박물관    서귀포시 상예동 4303        3\n",
       "..             ...              ...      ...\n",
       "171      호텔 컬리넌 제주     제주시 연동 284-8        3\n",
       "172           호텔난타     제주시 오등동 10-1        3\n",
       "173         호텔위드제주    제주시 노형동 930-5        3\n",
       "174            휘슬락   제주시 건입동 1443-2        3\n",
       "182          브릭캠퍼스    제주시 노형동 244-1        3\n",
       "\n",
       "[104 rows x 3 columns]"
      ]
     },
     "execution_count": 63,
     "metadata": {},
     "output_type": "execute_result"
    }
   ],
   "source": [
    "new_address['관광지주소길이'] = new_address['관광지주소'].str.split().apply(len)\n",
    "new_address[new_address['관광지주소길이'] == 3]"
   ]
  },
  {
   "cell_type": "code",
   "execution_count": 66,
   "metadata": {},
   "outputs": [
    {
     "data": {
      "text/html": [
       "<div>\n",
       "<style scoped>\n",
       "    .dataframe tbody tr th:only-of-type {\n",
       "        vertical-align: middle;\n",
       "    }\n",
       "\n",
       "    .dataframe tbody tr th {\n",
       "        vertical-align: top;\n",
       "    }\n",
       "\n",
       "    .dataframe thead th {\n",
       "        text-align: right;\n",
       "    }\n",
       "</style>\n",
       "<table border=\"1\" class=\"dataframe\">\n",
       "  <thead>\n",
       "    <tr style=\"text-align: right;\">\n",
       "      <th></th>\n",
       "      <th>관광지명</th>\n",
       "      <th>관광지주소</th>\n",
       "      <th>관광지주소길이</th>\n",
       "    </tr>\n",
       "  </thead>\n",
       "  <tbody>\n",
       "    <tr>\n",
       "      <th>0</th>\n",
       "      <td>제주 해바라기 펜션</td>\n",
       "      <td>서귀포시 표선면 세화리 1545</td>\n",
       "      <td>4</td>\n",
       "    </tr>\n",
       "    <tr>\n",
       "      <th>1</th>\n",
       "      <td>해비치 하우스 펜션</td>\n",
       "      <td>서귀포시 표선면 표선리 1282-5</td>\n",
       "      <td>4</td>\n",
       "    </tr>\n",
       "    <tr>\n",
       "      <th>2</th>\n",
       "      <td>건강과성박물관</td>\n",
       "      <td>서귀포시 안덕면 감산리 1736</td>\n",
       "      <td>4</td>\n",
       "    </tr>\n",
       "    <tr>\n",
       "      <th>5</th>\n",
       "      <td>고흐의 정원</td>\n",
       "      <td>서귀포시 성산읍 삼달리 1185-2</td>\n",
       "      <td>4</td>\n",
       "    </tr>\n",
       "    <tr>\n",
       "      <th>10</th>\n",
       "      <td>피규어뮤지엄제주</td>\n",
       "      <td>서귀포시 안덕면 상창리 1875-8</td>\n",
       "      <td>4</td>\n",
       "    </tr>\n",
       "    <tr>\n",
       "      <th>...</th>\n",
       "      <td>...</td>\n",
       "      <td>...</td>\n",
       "      <td>...</td>\n",
       "    </tr>\n",
       "    <tr>\n",
       "      <th>185</th>\n",
       "      <td>제주돌문화공원</td>\n",
       "      <td>제주시 조천읍 교래리 산95</td>\n",
       "      <td>4</td>\n",
       "    </tr>\n",
       "    <tr>\n",
       "      <th>186</th>\n",
       "      <td>한림공원</td>\n",
       "      <td>제주시 한림읍 협재리 2487</td>\n",
       "      <td>4</td>\n",
       "    </tr>\n",
       "    <tr>\n",
       "      <th>187</th>\n",
       "      <td>화조원</td>\n",
       "      <td>제주시 애월읍 납읍리 58</td>\n",
       "      <td>4</td>\n",
       "    </tr>\n",
       "    <tr>\n",
       "      <th>188</th>\n",
       "      <td>켄싱턴리조트 제주한림</td>\n",
       "      <td>제주시 한림읍 귀덕리 3861</td>\n",
       "      <td>4</td>\n",
       "    </tr>\n",
       "    <tr>\n",
       "      <th>189</th>\n",
       "      <td>한림 리조트</td>\n",
       "      <td>제주시 한림읍 협재리 1193</td>\n",
       "      <td>4</td>\n",
       "    </tr>\n",
       "  </tbody>\n",
       "</table>\n",
       "<p>86 rows × 3 columns</p>\n",
       "</div>"
      ],
      "text/plain": [
       "            관광지명                관광지주소  관광지주소길이\n",
       "0    제주 해바라기 펜션     서귀포시 표선면 세화리 1545        4\n",
       "1     해비치 하우스 펜션  서귀포시 표선면 표선리 1282-5        4\n",
       "2        건강과성박물관    서귀포시 안덕면 감산리 1736        4\n",
       "5         고흐의 정원  서귀포시 성산읍 삼달리 1185-2        4\n",
       "10      피규어뮤지엄제주  서귀포시 안덕면 상창리 1875-8        4\n",
       "..           ...                  ...      ...\n",
       "185      제주돌문화공원      제주시 조천읍 교래리 산95        4\n",
       "186         한림공원     제주시 한림읍 협재리 2487        4\n",
       "187          화조원       제주시 애월읍 납읍리 58        4\n",
       "188  켄싱턴리조트 제주한림     제주시 한림읍 귀덕리 3861        4\n",
       "189       한림 리조트     제주시 한림읍 협재리 1193        4\n",
       "\n",
       "[86 rows x 3 columns]"
      ]
     },
     "execution_count": 66,
     "metadata": {},
     "output_type": "execute_result"
    }
   ],
   "source": [
    "new_address[new_address['관광지주소길이'] == 4]"
   ]
  },
  {
   "cell_type": "code",
   "execution_count": 64,
   "metadata": {},
   "outputs": [
    {
     "data": {
      "text/plain": [
       "array([4, 3], dtype=int64)"
      ]
     },
     "execution_count": 64,
     "metadata": {},
     "output_type": "execute_result"
    }
   ],
   "source": [
    "new_address['관광지주소길이'].unique()"
   ]
  },
  {
   "cell_type": "code",
   "execution_count": 68,
   "metadata": {},
   "outputs": [],
   "source": [
    "# '동','읍','면','리'로 주소 만들기\n",
    "def make_second_address(address):\n",
    "    address_list = address.split()\n",
    "    \n",
    "    if len(address_list) == 3:\n",
    "        second_address = address_list[1]\n",
    "    else:\n",
    "        second_address = address_list[2]\n",
    "        \n",
    "    return second_address\n",
    "\n",
    "new_address['작은주소'] = new_address['관광지주소'].apply(make_second_address)"
   ]
  },
  {
   "cell_type": "code",
   "execution_count": 69,
   "metadata": {},
   "outputs": [],
   "source": [
    "new_address.drop(columns='관광지주소길이', inplace=True)"
   ]
  },
  {
   "cell_type": "code",
   "execution_count": 70,
   "metadata": {},
   "outputs": [
    {
     "data": {
      "text/html": [
       "<div>\n",
       "<style scoped>\n",
       "    .dataframe tbody tr th:only-of-type {\n",
       "        vertical-align: middle;\n",
       "    }\n",
       "\n",
       "    .dataframe tbody tr th {\n",
       "        vertical-align: top;\n",
       "    }\n",
       "\n",
       "    .dataframe thead th {\n",
       "        text-align: right;\n",
       "    }\n",
       "</style>\n",
       "<table border=\"1\" class=\"dataframe\">\n",
       "  <thead>\n",
       "    <tr style=\"text-align: right;\">\n",
       "      <th></th>\n",
       "      <th>관광지명</th>\n",
       "      <th>관광지주소</th>\n",
       "      <th>작은주소</th>\n",
       "    </tr>\n",
       "  </thead>\n",
       "  <tbody>\n",
       "    <tr>\n",
       "      <th>0</th>\n",
       "      <td>제주 해바라기 펜션</td>\n",
       "      <td>서귀포시 표선면 세화리 1545</td>\n",
       "      <td>세화리</td>\n",
       "    </tr>\n",
       "    <tr>\n",
       "      <th>1</th>\n",
       "      <td>해비치 하우스 펜션</td>\n",
       "      <td>서귀포시 표선면 표선리 1282-5</td>\n",
       "      <td>표선리</td>\n",
       "    </tr>\n",
       "  </tbody>\n",
       "</table>\n",
       "</div>"
      ],
      "text/plain": [
       "          관광지명                관광지주소 작은주소\n",
       "0  제주 해바라기 펜션     서귀포시 표선면 세화리 1545  세화리\n",
       "1   해비치 하우스 펜션  서귀포시 표선면 표선리 1282-5  표선리"
      ]
     },
     "execution_count": 70,
     "metadata": {},
     "output_type": "execute_result"
    }
   ],
   "source": [
    "new_address.head(2)"
   ]
  },
  {
   "cell_type": "code",
   "execution_count": 72,
   "metadata": {},
   "outputs": [],
   "source": [
    "# 주소가 같은 관광지 묶어서 csv 로 저장하기\n",
    "result = new_address.groupby('작은주소')['관광지명'].agg(list).reset_index()\n",
    "result = result.rename(columns={'작은주소':'주소'})\n",
    "result.to_csv(folder_path+'new_주소별관광지.csv', index=False)"
   ]
  }
 ],
 "metadata": {
  "kernelspec": {
   "display_name": "inflearn",
   "language": "python",
   "name": "python3"
  },
  "language_info": {
   "codemirror_mode": {
    "name": "ipython",
    "version": 3
   },
   "file_extension": ".py",
   "mimetype": "text/x-python",
   "name": "python",
   "nbconvert_exporter": "python",
   "pygments_lexer": "ipython3",
   "version": "3.11.9"
  }
 },
 "nbformat": 4,
 "nbformat_minor": 2
}
