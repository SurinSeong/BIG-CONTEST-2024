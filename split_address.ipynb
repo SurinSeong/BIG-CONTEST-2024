{
 "cells": [
  {
   "cell_type": "code",
   "execution_count": 1,
   "metadata": {},
   "outputs": [],
   "source": [
    "import pandas as pd\n"
   ]
  },
  {
   "cell_type": "code",
   "execution_count": 3,
   "metadata": {},
   "outputs": [],
   "source": [
    "raw1 = pd.read_csv(r'C:\\Users\\tjdtn\\inflearn-llm-application\\big-contest\\data\\new_서귀포시_관광지주소.csv')\n",
    "raw2 = pd.read_csv(r'C:\\Users\\tjdtn\\inflearn-llm-application\\big-contest\\data\\제주시_관광지주소.csv')\n",
    "df1 = raw1.copy()\n",
    "df2 = raw2.copy()"
   ]
  },
  {
   "cell_type": "code",
   "execution_count": 4,
   "metadata": {},
   "outputs": [
    {
     "data": {
      "text/html": [
       "<div>\n",
       "<style scoped>\n",
       "    .dataframe tbody tr th:only-of-type {\n",
       "        vertical-align: middle;\n",
       "    }\n",
       "\n",
       "    .dataframe tbody tr th {\n",
       "        vertical-align: top;\n",
       "    }\n",
       "\n",
       "    .dataframe thead th {\n",
       "        text-align: right;\n",
       "    }\n",
       "</style>\n",
       "<table border=\"1\" class=\"dataframe\">\n",
       "  <thead>\n",
       "    <tr style=\"text-align: right;\">\n",
       "      <th></th>\n",
       "      <th>관광지명</th>\n",
       "      <th>관광지주소</th>\n",
       "    </tr>\n",
       "  </thead>\n",
       "  <tbody>\n",
       "    <tr>\n",
       "      <th>0</th>\n",
       "      <td>제주 해바라기 펜션</td>\n",
       "      <td>서귀포시 표선면 세화리 1545</td>\n",
       "    </tr>\n",
       "    <tr>\n",
       "      <th>1</th>\n",
       "      <td>해비치 하우스 펜션</td>\n",
       "      <td>서귀포시 표선면 표선리 1282-5</td>\n",
       "    </tr>\n",
       "  </tbody>\n",
       "</table>\n",
       "</div>"
      ],
      "text/plain": [
       "          관광지명                관광지주소\n",
       "0  제주 해바라기 펜션     서귀포시 표선면 세화리 1545\n",
       "1   해비치 하우스 펜션  서귀포시 표선면 표선리 1282-5"
      ]
     },
     "execution_count": 4,
     "metadata": {},
     "output_type": "execute_result"
    }
   ],
   "source": [
    "df1.head(2)"
   ]
  },
  {
   "cell_type": "code",
   "execution_count": 9,
   "metadata": {},
   "outputs": [
    {
     "data": {
      "text/plain": [
       "array(['표선면', '안덕면', '색달동', '성산읍', '호근동', '토평동', '상예동', '서홍동', '대포동',\n",
       "       '중문동', '남원읍', '신효동', '서귀동', '법환동', '강정동', '서호동', '회수동', '하예동',\n",
       "       '대정읍', '동홍동', '상효동'], dtype=object)"
      ]
     },
     "execution_count": 9,
     "metadata": {},
     "output_type": "execute_result"
    }
   ],
   "source": [
    "df1.관광지주소.str.split().str[1].unique()"
   ]
  },
  {
   "cell_type": "code",
   "execution_count": 10,
   "metadata": {},
   "outputs": [
    {
     "data": {
      "text/html": [
       "<div>\n",
       "<style scoped>\n",
       "    .dataframe tbody tr th:only-of-type {\n",
       "        vertical-align: middle;\n",
       "    }\n",
       "\n",
       "    .dataframe tbody tr th {\n",
       "        vertical-align: top;\n",
       "    }\n",
       "\n",
       "    .dataframe thead th {\n",
       "        text-align: right;\n",
       "    }\n",
       "</style>\n",
       "<table border=\"1\" class=\"dataframe\">\n",
       "  <thead>\n",
       "    <tr style=\"text-align: right;\">\n",
       "      <th></th>\n",
       "      <th>관광지주소</th>\n",
       "      <th>관광지명</th>\n",
       "      <th>지번주소</th>\n",
       "    </tr>\n",
       "  </thead>\n",
       "  <tbody>\n",
       "    <tr>\n",
       "      <th>0</th>\n",
       "      <td>제주시 삼무로 12</td>\n",
       "      <td>엠버호텔</td>\n",
       "      <td>제주시 연동 251-1</td>\n",
       "    </tr>\n",
       "    <tr>\n",
       "      <th>1</th>\n",
       "      <td>제주시 노형로 89</td>\n",
       "      <td>노형슈퍼마켙</td>\n",
       "      <td>제주시 해안동 2137-1</td>\n",
       "    </tr>\n",
       "  </tbody>\n",
       "</table>\n",
       "</div>"
      ],
      "text/plain": [
       "        관광지주소    관광지명            지번주소\n",
       "0  제주시 삼무로 12    엠버호텔    제주시 연동 251-1\n",
       "1  제주시 노형로 89  노형슈퍼마켙  제주시 해안동 2137-1"
      ]
     },
     "execution_count": 10,
     "metadata": {},
     "output_type": "execute_result"
    }
   ],
   "source": [
    "df2.head(2)"
   ]
  },
  {
   "cell_type": "code",
   "execution_count": 12,
   "metadata": {},
   "outputs": [
    {
     "data": {
      "text/plain": [
       "array(['연동', '해안동', '오등동', '이도일동', '노형동', '구좌읍', '애월읍', '한림읍', '조천읍',\n",
       "       '우도면', '용담삼동', '외도일동', '삼도이동', '삼도일동', '이도이동', '이호일동', '건입동',\n",
       "       '한경면'], dtype=object)"
      ]
     },
     "execution_count": 12,
     "metadata": {},
     "output_type": "execute_result"
    }
   ],
   "source": [
    "df2.지번주소.str.split().str[1].unique()"
   ]
  }
 ],
 "metadata": {
  "kernelspec": {
   "display_name": "inflearn",
   "language": "python",
   "name": "python3"
  },
  "language_info": {
   "codemirror_mode": {
    "name": "ipython",
    "version": 3
   },
   "file_extension": ".py",
   "mimetype": "text/x-python",
   "name": "python",
   "nbconvert_exporter": "python",
   "pygments_lexer": "ipython3",
   "version": "3.11.9"
  }
 },
 "nbformat": 4,
 "nbformat_minor": 2
}
